{
 "cells": [
  {
   "cell_type": "code",
   "execution_count": 1,
   "id": "859cb34f-15fe-4c11-9bf5-43d2246dc2b9",
   "metadata": {},
   "outputs": [
    {
     "ename": "NoSuchElementException",
     "evalue": "Message: no such element: Unable to locate element: {\"method\":\"css selector\",\"selector\":\"[id=\"sltUF\"]\"}\n  (Session info: chrome=138.0.7204.101); For documentation on this error, please visit: https://www.selenium.dev/documentation/webdriver/troubleshooting/errors#nosuchelementexception\nStacktrace:\n\tGetHandleVerifier [0x0x7ff6f734e925+77845]\n\tGetHandleVerifier [0x0x7ff6f734e980+77936]\n\t(No symbol) [0x0x7ff6f7109cda]\n\t(No symbol) [0x0x7ff6f71606aa]\n\t(No symbol) [0x0x7ff6f716095c]\n\t(No symbol) [0x0x7ff6f71b3d07]\n\t(No symbol) [0x0x7ff6f718890f]\n\t(No symbol) [0x0x7ff6f71b0b07]\n\t(No symbol) [0x0x7ff6f71886a3]\n\t(No symbol) [0x0x7ff6f7151791]\n\t(No symbol) [0x0x7ff6f7152523]\n\tGetHandleVerifier [0x0x7ff6f762683d+3059501]\n\tGetHandleVerifier [0x0x7ff6f7620bfd+3035885]\n\tGetHandleVerifier [0x0x7ff6f76403f0+3164896]\n\tGetHandleVerifier [0x0x7ff6f7368c2e+185118]\n\tGetHandleVerifier [0x0x7ff6f737053f+216111]\n\tGetHandleVerifier [0x0x7ff6f73572d4+113092]\n\tGetHandleVerifier [0x0x7ff6f7357489+113529]\n\tGetHandleVerifier [0x0x7ff6f733e288+10616]\n\tBaseThreadInitThunk [0x0x7ffee20fe8d7+23]\n\tRtlUserThreadStart [0x0x7ffee38fc34c+44]\n",
     "output_type": "error",
     "traceback": [
      "\u001b[31m---------------------------------------------------------------------------\u001b[39m",
      "\u001b[31mNoSuchElementException\u001b[39m                    Traceback (most recent call last)",
      "\u001b[36mCell\u001b[39m\u001b[36m \u001b[39m\u001b[32mIn[1]\u001b[39m\u001b[32m, line 9\u001b[39m\n\u001b[32m      6\u001b[39m driver.get(\u001b[33m\"\u001b[39m\u001b[33mhttps://venda-imoveis.caixa.gov.br/sistema/busca-imovel.asp?sltTipoBusca=imoveis\u001b[39m\u001b[33m\"\u001b[39m)\n\u001b[32m      8\u001b[39m \u001b[38;5;66;03m# Aguardar e selecionar o estado para desbloquear a lista de cidades\u001b[39;00m\n\u001b[32m----> \u001b[39m\u001b[32m9\u001b[39m \u001b[43mdriver\u001b[49m\u001b[43m.\u001b[49m\u001b[43mfind_element\u001b[49m\u001b[43m(\u001b[49m\u001b[43mBy\u001b[49m\u001b[43m.\u001b[49m\u001b[43mID\u001b[49m\u001b[43m,\u001b[49m\u001b[43m \u001b[49m\u001b[33;43m\"\u001b[39;49m\u001b[33;43msltUF\u001b[39;49m\u001b[33;43m\"\u001b[39;49m\u001b[43m)\u001b[49m.send_keys(\u001b[33m\"\u001b[39m\u001b[33mSC\u001b[39m\u001b[33m\"\u001b[39m)\n\u001b[32m     11\u001b[39m \u001b[38;5;66;03m# Aguardar carregamento da lista de cidades\u001b[39;00m\n\u001b[32m     12\u001b[39m driver.implicitly_wait(\u001b[32m5\u001b[39m)\n",
      "\u001b[36mFile \u001b[39m\u001b[32mC:\\Python\\Lib\\site-packages\\selenium\\webdriver\\remote\\webdriver.py:922\u001b[39m, in \u001b[36mWebDriver.find_element\u001b[39m\u001b[34m(self, by, value)\u001b[39m\n\u001b[32m    919\u001b[39m         \u001b[38;5;28;01mraise\u001b[39;00m NoSuchElementException(\u001b[33mf\u001b[39m\u001b[33m\"\u001b[39m\u001b[33mCannot locate relative element with: \u001b[39m\u001b[38;5;132;01m{\u001b[39;00mby.root\u001b[38;5;132;01m}\u001b[39;00m\u001b[33m\"\u001b[39m)\n\u001b[32m    920\u001b[39m     \u001b[38;5;28;01mreturn\u001b[39;00m elements[\u001b[32m0\u001b[39m]\n\u001b[32m--> \u001b[39m\u001b[32m922\u001b[39m \u001b[38;5;28;01mreturn\u001b[39;00m \u001b[38;5;28;43mself\u001b[39;49m\u001b[43m.\u001b[49m\u001b[43mexecute\u001b[49m\u001b[43m(\u001b[49m\u001b[43mCommand\u001b[49m\u001b[43m.\u001b[49m\u001b[43mFIND_ELEMENT\u001b[49m\u001b[43m,\u001b[49m\u001b[43m \u001b[49m\u001b[43m{\u001b[49m\u001b[33;43m\"\u001b[39;49m\u001b[33;43musing\u001b[39;49m\u001b[33;43m\"\u001b[39;49m\u001b[43m:\u001b[49m\u001b[43m \u001b[49m\u001b[43mby\u001b[49m\u001b[43m,\u001b[49m\u001b[43m \u001b[49m\u001b[33;43m\"\u001b[39;49m\u001b[33;43mvalue\u001b[39;49m\u001b[33;43m\"\u001b[39;49m\u001b[43m:\u001b[49m\u001b[43m \u001b[49m\u001b[43mvalue\u001b[49m\u001b[43m}\u001b[49m\u001b[43m)\u001b[49m[\u001b[33m\"\u001b[39m\u001b[33mvalue\u001b[39m\u001b[33m\"\u001b[39m]\n",
      "\u001b[36mFile \u001b[39m\u001b[32mC:\\Python\\Lib\\site-packages\\selenium\\webdriver\\remote\\webdriver.py:454\u001b[39m, in \u001b[36mWebDriver.execute\u001b[39m\u001b[34m(self, driver_command, params)\u001b[39m\n\u001b[32m    451\u001b[39m response = cast(RemoteConnection, \u001b[38;5;28mself\u001b[39m.command_executor).execute(driver_command, params)\n\u001b[32m    453\u001b[39m \u001b[38;5;28;01mif\u001b[39;00m response:\n\u001b[32m--> \u001b[39m\u001b[32m454\u001b[39m     \u001b[38;5;28;43mself\u001b[39;49m\u001b[43m.\u001b[49m\u001b[43merror_handler\u001b[49m\u001b[43m.\u001b[49m\u001b[43mcheck_response\u001b[49m\u001b[43m(\u001b[49m\u001b[43mresponse\u001b[49m\u001b[43m)\u001b[49m\n\u001b[32m    455\u001b[39m     response[\u001b[33m\"\u001b[39m\u001b[33mvalue\u001b[39m\u001b[33m\"\u001b[39m] = \u001b[38;5;28mself\u001b[39m._unwrap_value(response.get(\u001b[33m\"\u001b[39m\u001b[33mvalue\u001b[39m\u001b[33m\"\u001b[39m, \u001b[38;5;28;01mNone\u001b[39;00m))\n\u001b[32m    456\u001b[39m     \u001b[38;5;28;01mreturn\u001b[39;00m response\n",
      "\u001b[36mFile \u001b[39m\u001b[32mC:\\Python\\Lib\\site-packages\\selenium\\webdriver\\remote\\errorhandler.py:232\u001b[39m, in \u001b[36mErrorHandler.check_response\u001b[39m\u001b[34m(self, response)\u001b[39m\n\u001b[32m    230\u001b[39m         alert_text = value[\u001b[33m\"\u001b[39m\u001b[33malert\u001b[39m\u001b[33m\"\u001b[39m].get(\u001b[33m\"\u001b[39m\u001b[33mtext\u001b[39m\u001b[33m\"\u001b[39m)\n\u001b[32m    231\u001b[39m     \u001b[38;5;28;01mraise\u001b[39;00m exception_class(message, screen, stacktrace, alert_text)  \u001b[38;5;66;03m# type: ignore[call-arg]  # mypy is not smart enough here\u001b[39;00m\n\u001b[32m--> \u001b[39m\u001b[32m232\u001b[39m \u001b[38;5;28;01mraise\u001b[39;00m exception_class(message, screen, stacktrace)\n",
      "\u001b[31mNoSuchElementException\u001b[39m: Message: no such element: Unable to locate element: {\"method\":\"css selector\",\"selector\":\"[id=\"sltUF\"]\"}\n  (Session info: chrome=138.0.7204.101); For documentation on this error, please visit: https://www.selenium.dev/documentation/webdriver/troubleshooting/errors#nosuchelementexception\nStacktrace:\n\tGetHandleVerifier [0x0x7ff6f734e925+77845]\n\tGetHandleVerifier [0x0x7ff6f734e980+77936]\n\t(No symbol) [0x0x7ff6f7109cda]\n\t(No symbol) [0x0x7ff6f71606aa]\n\t(No symbol) [0x0x7ff6f716095c]\n\t(No symbol) [0x0x7ff6f71b3d07]\n\t(No symbol) [0x0x7ff6f718890f]\n\t(No symbol) [0x0x7ff6f71b0b07]\n\t(No symbol) [0x0x7ff6f71886a3]\n\t(No symbol) [0x0x7ff6f7151791]\n\t(No symbol) [0x0x7ff6f7152523]\n\tGetHandleVerifier [0x0x7ff6f762683d+3059501]\n\tGetHandleVerifier [0x0x7ff6f7620bfd+3035885]\n\tGetHandleVerifier [0x0x7ff6f76403f0+3164896]\n\tGetHandleVerifier [0x0x7ff6f7368c2e+185118]\n\tGetHandleVerifier [0x0x7ff6f737053f+216111]\n\tGetHandleVerifier [0x0x7ff6f73572d4+113092]\n\tGetHandleVerifier [0x0x7ff6f7357489+113529]\n\tGetHandleVerifier [0x0x7ff6f733e288+10616]\n\tBaseThreadInitThunk [0x0x7ffee20fe8d7+23]\n\tRtlUserThreadStart [0x0x7ffee38fc34c+44]\n"
     ]
    }
   ],
   "source": [
    "from selenium import webdriver\n",
    "from selenium.webdriver.common.by import By\n",
    "\n",
    "# Inicia o navegador\n",
    "driver = webdriver.Chrome()\n",
    "driver.get(\"https://venda-imoveis.caixa.gov.br/sistema/busca-imovel.asp?sltTipoBusca=imoveis\")\n",
    "\n",
    "# Aguardar e selecionar o estado para desbloquear a lista de cidades\n",
    "driver.find_element(By.ID, \"sltUF\").send_keys(\"SC\")\n",
    "\n",
    "# Aguardar carregamento da lista de cidades\n",
    "driver.implicitly_wait(5)\n",
    "\n",
    "# Coletar as cidades disponíveis e seus códigos\n",
    "cidade_select = driver.find_element(By.ID, \"sltCidade\")\n",
    "options = cidade_select.find_elements(By.TAG_NAME, \"option\")\n",
    "dados_cidades = {opt.text: opt.get_attribute(\"value\") for opt in options}\n",
    "\n",
    "driver.quit()\n",
    "\n",
    "dados_cidades\n"
   ]
  },
  {
   "cell_type": "code",
   "execution_count": null,
   "id": "0b1c45da-98a4-4805-a673-7602b46ca533",
   "metadata": {},
   "outputs": [],
   "source": []
  }
 ],
 "metadata": {
  "kernelspec": {
   "display_name": "Python 3 (ipykernel)",
   "language": "python",
   "name": "python3"
  },
  "language_info": {
   "codemirror_mode": {
    "name": "ipython",
    "version": 3
   },
   "file_extension": ".py",
   "mimetype": "text/x-python",
   "name": "python",
   "nbconvert_exporter": "python",
   "pygments_lexer": "ipython3",
   "version": "3.11.9"
  }
 },
 "nbformat": 4,
 "nbformat_minor": 5
}
