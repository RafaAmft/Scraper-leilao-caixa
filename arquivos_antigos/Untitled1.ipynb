{
 "cells": [
  {
   "cell_type": "code",
   "execution_count": 3,
   "id": "3c27fdb8-f403-47b0-a25f-f66072628558",
   "metadata": {},
   "outputs": [
    {
     "name": "stdout",
     "output_type": "stream",
     "text": [
      "🚀 Iniciando navegador...\n",
      "❌ Erro ao buscar cidades: Elemento 'sltUF' não está presente no HTML. Verifique se a página foi carregada corretamente.\n"
     ]
    }
   ],
   "source": [
    "from selenium import webdriver\n",
    "from selenium.webdriver.common.by import By\n",
    "from selenium.webdriver.chrome.options import Options\n",
    "from selenium.webdriver.support.ui import WebDriverWait\n",
    "from selenium.webdriver.support import expected_conditions as EC\n",
    "import time\n",
    "import json\n",
    "\n",
    "estado_alvo = \"SC\"\n",
    "arquivo_saida = f\"codigos_cidades_{estado_alvo}.json\"\n",
    "\n",
    "# 🔧 Configurações do navegador\n",
    "options = Options()\n",
    "options.headless = False  # Debug visível\n",
    "options.add_argument(\"--start-maximized\")\n",
    "\n",
    "print(\"🚀 Iniciando navegador...\")\n",
    "driver = webdriver.Chrome(options=options)\n",
    "driver.get(\"https://venda-imoveis.caixa.gov.br/sistema/busca-imovel.asp?sltTipoBusca=imoveis\")\n",
    "\n",
    "try:\n",
    "    # Verifica se \"sltUF\" está presente no HTML\n",
    "    time.sleep(2)\n",
    "    html = driver.page_source\n",
    "    if \"sltUF\" not in html:\n",
    "        raise Exception(\"Elemento 'sltUF' não está presente no HTML. Verifique se a página foi carregada corretamente.\")\n",
    "\n",
    "    # Aguarda seletor de estado aparecer\n",
    "    uf_element = WebDriverWait(driver, 15).until(EC.presence_of_element_located((By.ID, \"sltUF\")))\n",
    "    uf_element.send_keys(estado_alvo)\n",
    "\n",
    "    # Aguarda lista de cidades carregar\n",
    "    WebDriverWait(driver, 15).until(EC.presence_of_element_located((By.ID, \"sltCidade\")))\n",
    "    time.sleep(2)\n",
    "\n",
    "    # Extrai códigos de cidade\n",
    "    cidade_select = driver.find_element(By.ID, \"sltCidade\")\n",
    "    options = cidade_select.find_elements(By.TAG_NAME, \"option\")\n",
    "    cidades = {opt.text.strip(): opt.get_attribute(\"value\") for opt in options if opt.get_attribute(\"value\")}\n",
    "\n",
    "    with open(arquivo_saida, \"w\", encoding=\"utf-8\") as f:\n",
    "        json.dump(cidades, f, indent=4, ensure_ascii=False)\n",
    "\n",
    "    print(f\"✅ {len(cidades)} cidades salvas em '{arquivo_saida}'\")\n",
    "\n",
    "except Exception as e:\n",
    "    print(f\"❌ Erro ao buscar cidades: {e}\")\n",
    "\n",
    "finally:\n",
    "    driver.quit()\n"
   ]
  },
  {
   "cell_type": "code",
   "execution_count": null,
   "id": "652b1f76-f0d6-46bf-b834-149079442571",
   "metadata": {},
   "outputs": [],
   "source": []
  }
 ],
 "metadata": {
  "kernelspec": {
   "display_name": "Python 3 (ipykernel)",
   "language": "python",
   "name": "python3"
  },
  "language_info": {
   "codemirror_mode": {
    "name": "ipython",
    "version": 3
   },
   "file_extension": ".py",
   "mimetype": "text/x-python",
   "name": "python",
   "nbconvert_exporter": "python",
   "pygments_lexer": "ipython3",
   "version": "3.11.9"
  }
 },
 "nbformat": 4,
 "nbformat_minor": 5
}
