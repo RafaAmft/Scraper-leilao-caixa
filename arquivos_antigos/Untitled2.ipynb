{
 "cells": [
  {
   "cell_type": "code",
   "execution_count": 1,
   "id": "d254c7c3-9824-45c9-b8c4-b9de0d2bb0d7",
   "metadata": {},
   "outputs": [
    {
     "name": "stdout",
     "output_type": "stream",
     "text": [
      "🔄 Entrando no iframe: sem nome\n",
      "❌ Erro ao buscar cidades: Message: \n",
      "Stacktrace:\n",
      "\tGetHandleVerifier [0x0x7ff6f734e925+77845]\n",
      "\tGetHandleVerifier [0x0x7ff6f734e980+77936]\n",
      "\t(No symbol) [0x0x7ff6f7109cda]\n",
      "\t(No symbol) [0x0x7ff6f71606aa]\n",
      "\t(No symbol) [0x0x7ff6f716095c]\n",
      "\t(No symbol) [0x0x7ff6f71b3d07]\n",
      "\t(No symbol) [0x0x7ff6f718890f]\n",
      "\t(No symbol) [0x0x7ff6f71b0b07]\n",
      "\t(No symbol) [0x0x7ff6f71886a3]\n",
      "\t(No symbol) [0x0x7ff6f7151791]\n",
      "\t(No symbol) [0x0x7ff6f7152523]\n",
      "\tGetHandleVerifier [0x0x7ff6f762683d+3059501]\n",
      "\tGetHandleVerifier [0x0x7ff6f7620bfd+3035885]\n",
      "\tGetHandleVerifier [0x0x7ff6f76403f0+3164896]\n",
      "\tGetHandleVerifier [0x0x7ff6f7368c2e+185118]\n",
      "\tGetHandleVerifier [0x0x7ff6f737053f+216111]\n",
      "\tGetHandleVerifier [0x0x7ff6f73572d4+113092]\n",
      "\tGetHandleVerifier [0x0x7ff6f7357489+113529]\n",
      "\tGetHandleVerifier [0x0x7ff6f733e288+10616]\n",
      "\tBaseThreadInitThunk [0x0x7ffee20fe8d7+23]\n",
      "\tRtlUserThreadStart [0x0x7ffee38fc34c+44]\n",
      "\n"
     ]
    }
   ],
   "source": [
    "from selenium import webdriver\n",
    "from selenium.webdriver.common.by import By\n",
    "from selenium.webdriver.chrome.options import Options\n",
    "from selenium.webdriver.support.ui import WebDriverWait\n",
    "from selenium.webdriver.support import expected_conditions as EC\n",
    "import time\n",
    "import json\n",
    "\n",
    "estado_alvo = \"SC\"\n",
    "arquivo_saida = f\"codigos_cidades_{estado_alvo}.json\"\n",
    "\n",
    "options = Options()\n",
    "options.headless = False\n",
    "options.add_argument(\"--start-maximized\")\n",
    "\n",
    "driver = webdriver.Chrome(options=options)\n",
    "driver.get(\"https://venda-imoveis.caixa.gov.br/sistema/busca-imovel.asp?sltTipoBusca=imoveis\")\n",
    "\n",
    "try:\n",
    "    time.sleep(3)  # Aguarda carregamento inicial\n",
    "\n",
    "    # 🔍 Verifica se há iframes e entra no primeiro, se existir\n",
    "    iframes = driver.find_elements(By.TAG_NAME, \"iframe\")\n",
    "    if iframes:\n",
    "        print(f\"🔄 Entrando no iframe: {iframes[0].get_attribute('name') or 'sem nome'}\")\n",
    "        driver.switch_to.frame(iframes[0])\n",
    "        time.sleep(2)\n",
    "\n",
    "    # ⏳ Aguarda seletor de estado aparecer\n",
    "    WebDriverWait(driver, 15).until(EC.presence_of_element_located((By.ID, \"sltUF\")))\n",
    "    uf_element = driver.find_element(By.ID, \"sltUF\")\n",
    "    uf_element.send_keys(estado_alvo)\n",
    "\n",
    "    WebDriverWait(driver, 15).until(EC.presence_of_element_located((By.ID, \"sltCidade\")))\n",
    "    time.sleep(2)\n",
    "\n",
    "    cidade_select = driver.find_element(By.ID, \"sltCidade\")\n",
    "    options = cidade_select.find_elements(By.TAG_NAME, \"option\")\n",
    "    cidades = {opt.text.strip(): opt.get_attribute(\"value\") for opt in options if opt.get_attribute(\"value\")}\n",
    "\n",
    "    with open(arquivo_saida, \"w\", encoding=\"utf-8\") as f:\n",
    "        json.dump(cidades, f, indent=4, ensure_ascii=False)\n",
    "\n",
    "    print(f\"✅ {len(cidades)} cidades salvas em '{arquivo_saida}'\")\n",
    "\n",
    "except Exception as e:\n",
    "    print(f\"❌ Erro ao buscar cidades: {e}\")\n",
    "\n",
    "finally:\n",
    "    driver.quit()\n"
   ]
  },
  {
   "cell_type": "code",
   "execution_count": null,
   "id": "9efa08db-0580-4ddd-89c7-7e1603f20c0f",
   "metadata": {},
   "outputs": [],
   "source": []
  }
 ],
 "metadata": {
  "kernelspec": {
   "display_name": "Python 3 (ipykernel)",
   "language": "python",
   "name": "python3"
  },
  "language_info": {
   "codemirror_mode": {
    "name": "ipython",
    "version": 3
   },
   "file_extension": ".py",
   "mimetype": "text/x-python",
   "name": "python",
   "nbconvert_exporter": "python",
   "pygments_lexer": "ipython3",
   "version": "3.11.9"
  }
 },
 "nbformat": 4,
 "nbformat_minor": 5
}
